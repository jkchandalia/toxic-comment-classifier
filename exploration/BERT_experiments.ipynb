{
 "cells": [
  {
   "cell_type": "markdown",
   "metadata": {
    "colab_type": "text",
    "id": "4R_pRGIEo4_G"
   },
   "source": [
    "# About this Notebook\n",
    "\n",
    "The goal of this notebook is to build a classifier using a BERT pre-trained model to find toxic comments. The data has been taken from a series of Kaggle competitions to classify Wikipedia comments as toxic/nontoxic. The data has been sourced from Google and Jigsaw. \n",
    "\n",
    "Though the full dataset includes non-English comments, I will restrict myself to English-only comment for this iteration. \n",
    "\n",
    "For metrics, I will focus on both AUC for ROC and precision-recall curves. In addition, I will look at overall accuracy and perhaps the confusion matrix and performance across different flavors of toxicity.\n",
    "\n",
    "Credits:\n",
    "- https://www.kaggle.com/tanulsingh077/deep-learning-for-nlp-zero-to-transformers-bert\n",
    "- https://www.kaggle.com/jagangupta/stop-the-s-toxic-comments-eda\n",
    "- https://www.kaggle.com/clinma/eda-toxic-comment-classification-challenge\n",
    "- https://www.kaggle.com/abhi111/naive-bayes-baseline-and-logistic-regression"
   ]
  },
  {
   "cell_type": "code",
   "execution_count": null,
   "metadata": {
    "colab": {
     "base_uri": "https://localhost:8080/",
     "height": 377
    },
    "colab_type": "code",
    "id": "-gwYq34yo4_I",
    "outputId": "4a0ebc76-f815-41ab-ea71-0ccc90a6ab5a"
   },
   "outputs": [],
   "source": [
    "from tqdm import tqdm\n",
    "import numpy as np\n",
    "import pandas as pd\n",
    "%matplotlib inline\n",
    "  \n",
    "pd.options.display.max_rows = 999\n",
    "\n",
    "#Uncomment below if running in colab\n",
    "#!pip install tokenizers\n",
    "#!pip install transformers\n",
    "\n"
   ]
  },
  {
   "cell_type": "markdown",
   "metadata": {
    "colab_type": "text",
    "id": "Riw_wcwYnjWA"
   },
   "source": [
    "# Install toxicity package"
   ]
  },
  {
   "cell_type": "code",
   "execution_count": null,
   "metadata": {
    "colab": {
     "base_uri": "https://localhost:8080/",
     "height": 292
    },
    "colab_type": "code",
    "id": "nfmoOvnchfmr",
    "outputId": "bec52956-cda8-43e2-913a-e0486fde2abf"
   },
   "outputs": [],
   "source": [
    "#Run below if toxicity package is not installed\n",
    "#!pip install --upgrade git+https://github.com/jkchandalia/toxic-comment-classifier.git@fe5dfe51f09322c166cce0a56818f66a2a2fc5c7\n"
   ]
  },
  {
   "cell_type": "code",
   "execution_count": null,
   "metadata": {
    "colab": {
     "base_uri": "https://localhost:8080/",
     "height": 275
    },
    "colab_type": "code",
    "id": "h75cchZPo4_S",
    "outputId": "84777218-506d-4759-cf3f-7c36dfac7684"
   },
   "outputs": [],
   "source": [
    "from toxicity import constants, data, features, metrics, visualize, model, text_preprocessing, model_BERT"
   ]
  },
  {
   "cell_type": "markdown",
   "metadata": {
    "colab_type": "text",
    "id": "OITDhWOBhfmw"
   },
   "source": [
    "## Load data"
   ]
  },
  {
   "cell_type": "code",
   "execution_count": null,
   "metadata": {
    "colab": {
     "base_uri": "https://localhost:8080/",
     "height": 54
    },
    "colab_type": "code",
    "id": "p5AbRd0BiKd4",
    "outputId": "6065b679-b1bc-4165-a6ea-1afce9405e8b"
   },
   "outputs": [],
   "source": [
    "#Mount drive if using google colab nb\n",
    "from google.colab import drive\n",
    "drive.mount('/content/drive')"
   ]
  },
  {
   "cell_type": "code",
   "execution_count": null,
   "metadata": {
    "colab": {
     "base_uri": "https://localhost:8080/",
     "height": 139
    },
    "colab_type": "code",
    "id": "LPMEZItIhfmx",
    "outputId": "3a0904c7-631d-411d-fdbb-7501d6a71119"
   },
   "outputs": [],
   "source": [
    "#Use below for local\n",
    "pre_path = './../'\n",
    "#Use below for paperspace\n",
    "#pre_path = '/storage/'\n",
    "#Use below for colab with drive mounted\n",
    "#pre_path = '/content/drive/My Drive/toximeter_project/'\n",
    "input_data_path = pre_path+constants.INPUT_PATH\n",
    "df_train = data.load(input_data_path, filter=False)\n",
    "\n",
    "train_full = df_train.copy()\n",
    "#df_train = df_train.loc[:10000,:]\n",
    "print(\"Sample Toxic Comments: \")\n",
    "print(df_train.comment_text[df_train.toxic==1][1:2].values)\n",
    "print(\"Breakdown of nontoxic/toxic comments: \")\n",
    "df_train.toxic.value_counts()\n"
   ]
  },
  {
   "cell_type": "code",
   "execution_count": null,
   "metadata": {
    "colab": {},
    "colab_type": "code",
    "id": "iUpZSAcZo4_a"
   },
   "outputs": [],
   "source": [
    "xtrain, xvalid, ytrain, yvalid = model.make_train_test(df_train)"
   ]
  },
  {
   "cell_type": "code",
   "execution_count": null,
   "metadata": {
    "colab": {
     "base_uri": "https://localhost:8080/",
     "height": 34
    },
    "colab_type": "code",
    "id": "Ecp75cfWo4_f",
    "outputId": "f260dea8-422c-4c6c-b7de-459111127b34"
   },
   "outputs": [],
   "source": [
    "xtrain.shape"
   ]
  },
  {
   "cell_type": "markdown",
   "metadata": {
    "colab_type": "text",
    "id": "BiuYEuePo4_h"
   },
   "source": [
    "## BERT"
   ]
  },
  {
   "cell_type": "markdown",
   "metadata": {
    "colab_type": "text",
    "id": "91NPMOiDo4_k"
   },
   "source": [
    "Using huggingface's tokenizer and DistilBert Model.\n",
    "https://huggingface.co/transformers/main_classes/tokenizer.html"
   ]
  },
  {
   "cell_type": "markdown",
   "metadata": {
    "colab_type": "text",
    "id": "7gmcRhO5A0gb"
   },
   "source": [
    "### Setup basic training configs"
   ]
  },
  {
   "cell_type": "code",
   "execution_count": null,
   "metadata": {
    "colab": {},
    "colab_type": "code",
    "id": "cY5Nb-Bko4_k"
   },
   "outputs": [],
   "source": [
    "#IMP DATA FOR CONFIG\n",
    "#AUTO = tf.data.experimental.AUTOTUNE\n",
    "\n",
    "# Configuration\n",
    "EPOCHS = 120\n",
    "BATCH_SIZE = 64\n",
    "MAX_LEN = 512"
   ]
  },
  {
   "cell_type": "markdown",
   "metadata": {
    "colab_type": "text",
    "id": "E_wMV4alo4_p"
   },
   "source": [
    "## Data Preparation/Tokenization\n",
    "\n",
    "\n"
   ]
  },
  {
   "cell_type": "code",
   "execution_count": null,
   "metadata": {
    "colab": {
     "base_uri": "https://localhost:8080/",
     "height": 453
    },
    "colab_type": "code",
    "id": "y9n6JtnIo4_r",
    "outputId": "ee28b347-57f3-4f5a-9cdb-2791b57a5966",
    "scrolled": true
   },
   "outputs": [],
   "source": [
    "x_train = model_BERT.fast_encode(xtrain.astype(str), model_BERT.fast_tokenizer)\n",
    "x_valid = model_BERT.fast_encode(xvalid.astype(str), model_BERT.fast_tokenizer)\n",
    "#x_test = fast_encode(test.content.astype(str), fast_tokenizer, maxlen=MAX_LEN)\n",
    "\n",
    "y_train = ytrain\n",
    "y_valid = yvalid"
   ]
  },
  {
   "cell_type": "markdown",
   "metadata": {
    "colab_type": "text",
    "id": "AEnkReD-BKBW"
   },
   "source": [
    "## Build Models"
   ]
  },
  {
   "cell_type": "code",
   "execution_count": null,
   "metadata": {
    "colab": {},
    "colab_type": "code",
    "id": "3LogcEBgnggE"
   },
   "outputs": [],
   "source": [
    "build_model = model_BERT.build_BERT_model_classification\n",
    "build_model_lstm = model_BERT.build_BERT_model_lstm"
   ]
  },
  {
   "cell_type": "code",
   "execution_count": null,
   "metadata": {
    "colab": {
     "base_uri": "https://localhost:8080/",
     "height": 391
    },
    "colab_type": "code",
    "id": "geOgLHTYo4_3",
    "outputId": "76cf2e0e-389d-442e-a04b-3d46c4f39835"
   },
   "outputs": [],
   "source": [
    "model_classification = build_model(model_BERT.transformer_layer)\n",
    "model_classification.summary()\n"
   ]
  },
  {
   "cell_type": "code",
   "execution_count": null,
   "metadata": {
    "colab": {
     "base_uri": "https://localhost:8080/",
     "height": 289
    },
    "colab_type": "code",
    "id": "ppD-5qzBaXF4",
    "outputId": "403b83b6-59b6-4b54-c67e-1849080fa457"
   },
   "outputs": [],
   "source": [
    "model_lstm = build_model_lstm(model_BERT.transformer_layer)\n",
    "model_lstm.summary()\n"
   ]
  },
  {
   "cell_type": "markdown",
   "metadata": {
    "colab_type": "text",
    "id": "Ty7Xfz_io4_5"
   },
   "source": [
    "## Callbacks"
   ]
  },
  {
   "cell_type": "code",
   "execution_count": null,
   "metadata": {
    "colab": {},
    "colab_type": "code",
    "id": "tTVZc5cJGtGd"
   },
   "outputs": [],
   "source": [
    "project_name = 'check_output'\n",
    "callbacks = model_BERT.make_callbacks(pre_path, project_name)"
   ]
  },
  {
   "cell_type": "markdown",
   "metadata": {
    "colab_type": "text",
    "id": "yQ9-pFm3o4_0"
   },
   "source": [
    "## Start Training\n"
   ]
  },
  {
   "cell_type": "code",
   "execution_count": null,
   "metadata": {
    "colab": {
     "base_uri": "https://localhost:8080/",
     "height": 1000
    },
    "colab_type": "code",
    "id": "I1TX9o2fo5AC",
    "outputId": "5a5331b5-ccbb-4225-b7ed-589673ef5a37"
   },
   "outputs": [],
   "source": [
    "train_history = model_lstm.fit(\n",
    "    x_train,\n",
    "    y_train,\n",
    "    batch_size=BATCH_SIZE,\n",
    "    validation_data=(x_valid, y_valid),\n",
    "    epochs=EPOCHS,\n",
    "    callbacks=callbacks\n",
    "    \n",
    ")"
   ]
  },
  {
   "cell_type": "code",
   "execution_count": null,
   "metadata": {
    "colab": {},
    "colab_type": "code",
    "id": "2QBvukVuo5AI"
   },
   "outputs": [],
   "source": [
    "y_pred=model_lstm.predict(\n",
    "    x_valid\n",
    ")\n"
   ]
  },
  {
   "cell_type": "code",
   "execution_count": null,
   "metadata": {
    "colab": {},
    "colab_type": "code",
    "id": "KrifFhZKo5AK"
   },
   "outputs": [],
   "source": [
    "from toxicity.metrics import run_metrics\n",
    "run_metrics(y_pred>.5, y_pred, y_valid, visualize=True)"
   ]
  }
 ],
 "metadata": {
  "accelerator": "GPU",
  "colab": {
   "collapsed_sections": [],
   "name": "Toxic_Comment_NLP_BERT.ipynb",
   "provenance": [],
   "toc_visible": true
  },
  "kernelspec": {
   "display_name": "Python 3",
   "language": "python",
   "name": "python3"
  },
  "language_info": {
   "codemirror_mode": {
    "name": "ipython",
    "version": 3
   },
   "file_extension": ".py",
   "mimetype": "text/x-python",
   "name": "python",
   "nbconvert_exporter": "python",
   "pygments_lexer": "ipython3",
   "version": "3.7.4"
  }
 },
 "nbformat": 4,
 "nbformat_minor": 1
}
