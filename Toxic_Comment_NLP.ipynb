{
 "cells": [
  {
   "cell_type": "markdown",
   "metadata": {},
   "source": [
    "# About this Notebook\n",
    "\n",
    "The goal of this notebook is to build a classifier to find toxic comments. The data has been taken from a series of Kaggle competitions to classify Wikipedia comments as toxic/nontoxic. The data has been sourced from Google and Jigsaw. \n",
    "\n",
    "The notebook will start with simple bag-of-words and tf-idf features and use simple models like logistic regression and Naive Bayes to perform classification with these features. Though the full dataset includes non-English comments, I will restrict myself to English-only comment for this iteration. \n",
    "\n",
    "We will then move on to deep learning approaches, using a combination of pretrained word embeddings and simple deep learning models like RNNs and 1D convolutions to do more benchmarking. \n",
    "\n",
    "Next, we will explore deep learning models that have 'memory' using LSTMs (Long Short Term Memory) and GRUs (Gated Recurrent Units). \n",
    "\n",
    "Finally, we will approach state of the art performance using pretrained models like BERT and xlnet.\n",
    "\n",
    "For metrics, I will focus more on recall than precision as I believe finding all toxic comments is more important that mislabelling some nontoxic comments. In addition to recall, I will look at the confusion matrix and precision-recall curves. \n",
    "\n",
    "Credits:\n",
    "https://www.kaggle.com/tanulsingh077/deep-learning-for-nlp-zero-to-transformers-bert"
   ]
  },
  {
   "cell_type": "code",
   "execution_count": 1,
   "metadata": {
    "_cell_guid": "b1076dfc-b9ad-4769-8c92-a6c4dae69d19",
    "_uuid": "8f2839f25d086af736a60e9eeb907d3b93b6e0e5"
   },
   "outputs": [],
   "source": [
    "import numpy as np\n",
    "import pandas as pd\n",
    "from tqdm import tqdm\n",
    "from sklearn import metrics\n",
    "from sklearn.feature_extraction.text import CountVectorizer, TfidfVectorizer \n",
    "from sklearn.model_selection import train_test_split\n",
    "from sklearn.naive_bayes import MultinomialNB\n",
    "\n",
    "import matplotlib.pyplot as plt\n",
    "import seaborn as sns\n",
    "%matplotlib inline\n",
    "from plotly import graph_objs as go\n",
    "import plotly.express as px\n",
    "import plotly.figure_factory as ff"
   ]
  },
  {
   "cell_type": "markdown",
   "metadata": {},
   "source": [
    "## Load data"
   ]
  },
  {
   "cell_type": "code",
   "execution_count": 2,
   "metadata": {
    "_cell_guid": "79c7e3d0-c299-4dcb-8224-4455121ee9b0",
    "_uuid": "d629ff2d2480ee46fbb7e2d37f6b5fab8052498a"
   },
   "outputs": [],
   "source": [
    "train = pd.read_csv('jigsaw-multilingual-toxic-comment-classification/jigsaw-toxic-comment-train.csv')\n",
    "#The following is a non-English dataset and won't be used presently\n",
    "validation = pd.read_csv('jigsaw-multilingual-toxic-comment-classification/validation.csv')\n",
    "#The following is a non-English dataset and won't be used presently\n",
    "test = pd.read_csv('jigsaw-multilingual-toxic-comment-classification/test.csv')"
   ]
  },
  {
   "cell_type": "markdown",
   "metadata": {},
   "source": [
    "## EDA"
   ]
  },
  {
   "cell_type": "code",
   "execution_count": 3,
   "metadata": {
    "scrolled": true
   },
   "outputs": [
    {
     "data": {
      "text/html": [
       "<div>\n",
       "<style scoped>\n",
       "    .dataframe tbody tr th:only-of-type {\n",
       "        vertical-align: middle;\n",
       "    }\n",
       "\n",
       "    .dataframe tbody tr th {\n",
       "        vertical-align: top;\n",
       "    }\n",
       "\n",
       "    .dataframe thead th {\n",
       "        text-align: right;\n",
       "    }\n",
       "</style>\n",
       "<table border=\"1\" class=\"dataframe\">\n",
       "  <thead>\n",
       "    <tr style=\"text-align: right;\">\n",
       "      <th></th>\n",
       "      <th>id</th>\n",
       "      <th>comment_text</th>\n",
       "      <th>toxic</th>\n",
       "      <th>severe_toxic</th>\n",
       "      <th>obscene</th>\n",
       "      <th>threat</th>\n",
       "      <th>insult</th>\n",
       "      <th>identity_hate</th>\n",
       "    </tr>\n",
       "  </thead>\n",
       "  <tbody>\n",
       "    <tr>\n",
       "      <th>0</th>\n",
       "      <td>0000997932d777bf</td>\n",
       "      <td>Explanation\\nWhy the edits made under my usern...</td>\n",
       "      <td>0</td>\n",
       "      <td>0</td>\n",
       "      <td>0</td>\n",
       "      <td>0</td>\n",
       "      <td>0</td>\n",
       "      <td>0</td>\n",
       "    </tr>\n",
       "    <tr>\n",
       "      <th>1</th>\n",
       "      <td>000103f0d9cfb60f</td>\n",
       "      <td>D'aww! He matches this background colour I'm s...</td>\n",
       "      <td>0</td>\n",
       "      <td>0</td>\n",
       "      <td>0</td>\n",
       "      <td>0</td>\n",
       "      <td>0</td>\n",
       "      <td>0</td>\n",
       "    </tr>\n",
       "    <tr>\n",
       "      <th>2</th>\n",
       "      <td>000113f07ec002fd</td>\n",
       "      <td>Hey man, I'm really not trying to edit war. It...</td>\n",
       "      <td>0</td>\n",
       "      <td>0</td>\n",
       "      <td>0</td>\n",
       "      <td>0</td>\n",
       "      <td>0</td>\n",
       "      <td>0</td>\n",
       "    </tr>\n",
       "    <tr>\n",
       "      <th>3</th>\n",
       "      <td>0001b41b1c6bb37e</td>\n",
       "      <td>\"\\nMore\\nI can't make any real suggestions on ...</td>\n",
       "      <td>0</td>\n",
       "      <td>0</td>\n",
       "      <td>0</td>\n",
       "      <td>0</td>\n",
       "      <td>0</td>\n",
       "      <td>0</td>\n",
       "    </tr>\n",
       "    <tr>\n",
       "      <th>4</th>\n",
       "      <td>0001d958c54c6e35</td>\n",
       "      <td>You, sir, are my hero. Any chance you remember...</td>\n",
       "      <td>0</td>\n",
       "      <td>0</td>\n",
       "      <td>0</td>\n",
       "      <td>0</td>\n",
       "      <td>0</td>\n",
       "      <td>0</td>\n",
       "    </tr>\n",
       "  </tbody>\n",
       "</table>\n",
       "</div>"
      ],
      "text/plain": [
       "                 id                                       comment_text  toxic  \\\n",
       "0  0000997932d777bf  Explanation\\nWhy the edits made under my usern...      0   \n",
       "1  000103f0d9cfb60f  D'aww! He matches this background colour I'm s...      0   \n",
       "2  000113f07ec002fd  Hey man, I'm really not trying to edit war. It...      0   \n",
       "3  0001b41b1c6bb37e  \"\\nMore\\nI can't make any real suggestions on ...      0   \n",
       "4  0001d958c54c6e35  You, sir, are my hero. Any chance you remember...      0   \n",
       "\n",
       "   severe_toxic  obscene  threat  insult  identity_hate  \n",
       "0             0        0       0       0              0  \n",
       "1             0        0       0       0              0  \n",
       "2             0        0       0       0              0  \n",
       "3             0        0       0       0              0  \n",
       "4             0        0       0       0              0  "
      ]
     },
     "execution_count": 3,
     "metadata": {},
     "output_type": "execute_result"
    }
   ],
   "source": [
    "train.head()"
   ]
  },
  {
   "cell_type": "code",
   "execution_count": 4,
   "metadata": {},
   "outputs": [
    {
     "name": "stdout",
     "output_type": "stream",
     "text": [
      "<class 'pandas.core.frame.DataFrame'>\n",
      "RangeIndex: 223549 entries, 0 to 223548\n",
      "Data columns (total 8 columns):\n",
      "id               223549 non-null object\n",
      "comment_text     223549 non-null object\n",
      "toxic            223549 non-null int64\n",
      "severe_toxic     223549 non-null int64\n",
      "obscene          223549 non-null int64\n",
      "threat           223549 non-null int64\n",
      "insult           223549 non-null int64\n",
      "identity_hate    223549 non-null int64\n",
      "dtypes: int64(6), object(2)\n",
      "memory usage: 13.6+ MB\n"
     ]
    }
   ],
   "source": [
    "train.info()"
   ]
  },
  {
   "cell_type": "markdown",
   "metadata": {},
   "source": [
    "We will drop the other columns and approach this problem as a Binary Classification Problem and also we will have our exercise done on a smaller subsection of the dataset(only 12000 data points) to make it easier to train the models"
   ]
  },
  {
   "cell_type": "code",
   "execution_count": 5,
   "metadata": {},
   "outputs": [],
   "source": [
    "train.drop(['severe_toxic','obscene','threat','insult','identity_hate'],axis=1,inplace=True)"
   ]
  },
  {
   "cell_type": "markdown",
   "metadata": {},
   "source": [
    "## Sample data"
   ]
  },
  {
   "cell_type": "code",
   "execution_count": 6,
   "metadata": {},
   "outputs": [
    {
     "data": {
      "text/plain": [
       "array(['Hey... what is it..\\n@ | talk .\\nWhat is it... an exclusive group of some WP TALIBANS...who are good at destroying, self-appointed purist who GANG UP any one who asks them questions abt their ANTI-SOCIAL and DESTRUCTIVE (non)-contribution at WP?\\n\\nAsk Sityush to clean up his behavior than issue me nonsensical warnings...'],\n",
       "      dtype=object)"
      ]
     },
     "execution_count": 6,
     "metadata": {},
     "output_type": "execute_result"
    }
   ],
   "source": [
    "train = train.loc[:10000,:]\n",
    "train.comment_text[train.toxic==1][1:2].values"
   ]
  },
  {
   "cell_type": "markdown",
   "metadata": {},
   "source": [
    "## Explore Traditional Text Preprocessing Techniques"
   ]
  },
  {
   "cell_type": "code",
   "execution_count": 7,
   "metadata": {},
   "outputs": [],
   "source": [
    "#Explore regex cleanups, # of unknown words, and lemmatization"
   ]
  },
  {
   "cell_type": "markdown",
   "metadata": {},
   "source": [
    "## Create train and test sets"
   ]
  },
  {
   "cell_type": "code",
   "execution_count": 8,
   "metadata": {},
   "outputs": [],
   "source": [
    "xtrain, xvalid, ytrain, yvalid = train_test_split(train.comment_text.values, train.toxic.values, \n",
    "                                                  stratify=train.toxic.values, \n",
    "                                                  random_state=42, \n",
    "                                                  test_size=0.2, shuffle=True)\n"
   ]
  },
  {
   "cell_type": "markdown",
   "metadata": {},
   "source": [
    "## Create Features"
   ]
  },
  {
   "cell_type": "code",
   "execution_count": 9,
   "metadata": {},
   "outputs": [],
   "source": [
    "count_vectorizer = CountVectorizer(stop_words='english')\n",
    "count_train = count_vectorizer.fit_transform(xtrain)\n",
    "count_valid = count_vectorizer.transform(xvalid)\n"
   ]
  },
  {
   "cell_type": "markdown",
   "metadata": {},
   "source": [
    "## Define Metrics"
   ]
  },
  {
   "cell_type": "code",
   "execution_count": 64,
   "metadata": {},
   "outputs": [],
   "source": [
    "def run_metrics(predictions, predictions_prob, target, visualize=True):\n",
    "    fpr, tpr, thresholds = metrics.roc_curve(target, predictions_prob)\n",
    "    roc_auc = metrics.auc(fpr, tpr)\n",
    "    precision, recall, thresholds = metrics.precision_recall_curve(target, predictions_prob)\n",
    "    average_precision = metrics.average_precision_score(yvalid, pred)\n",
    "    #average_recall = metrics.recall_score(yvalid, pred)\n",
    "    print('Average precision-recall score: {0:0.2f}'.format(\n",
    "      average_precision))\n",
    "    accuracy = metrics.accuracy_score(yvalid, pred)\n",
    "    print(metrics.confusion_matrix(yvalid, pred, labels=[0,1]))\n",
    "    print(\"Accuracy Score: {0:0.2f}\".format(accuracy))\n",
    "    if visualize:\n",
    "        plt.figure()\n",
    "        plt.plot(fpr, tpr)\n",
    "        plt.title('ROC curve, AUC: {0:0.2f}'.format(roc_auc))\n",
    "        plt.xlabel('False Positive Rate')\n",
    "        plt.ylabel('True Positive Rate')\n",
    "        \n",
    "        plt.show()\n",
    "        \n",
    "        plt.figure()\n",
    "        plt.plot(recall, precision)\n",
    "        plt.title('Precision-Recall curve')\n",
    "        plt.xlabel('Recall')\n",
    "        plt.ylabel('Precision')\n",
    "        plt.show()\n",
    "        #disp = metrics.plot_precision_recall_curve(nb_classifier, count_valid, yvalid)\n",
    "        #disp.ax_.set_title('2-class Precision-Recall curve: '\n",
    "                   #'AP={0:0.2f}'.format(average_precision))"
   ]
  },
  {
   "cell_type": "markdown",
   "metadata": {},
   "source": [
    "## Train Naive Bayes Model"
   ]
  },
  {
   "cell_type": "code",
   "execution_count": 72,
   "metadata": {},
   "outputs": [],
   "source": [
    "nb_classifier = MultinomialNB()\n",
    "\n",
    "nb_classifier.fit(count_train, ytrain)\n",
    "pred = nb_classifier.predict(count_valid)\n",
    "pred_proba = nb_classifier.predict_proba(count_valid)[:,1]\n"
   ]
  },
  {
   "cell_type": "code",
   "execution_count": 73,
   "metadata": {},
   "outputs": [
    {
     "name": "stdout",
     "output_type": "stream",
     "text": [
      "Average precision-recall score: 0.48\n",
      "[[1798    9]\n",
      " [ 103   91]]\n",
      "Accuracy Score: 0.94\n"
     ]
    },
    {
     "data": {
      "image/png": "[encoded data removed]",
      "text/plain": [
       "<Figure size 432x288 with 1 Axes>"
      ]
     },
     "metadata": {
      "needs_background": "light"
     },
     "output_type": "display_data"
    },
    {
     "data": {
      "image/png": "[encoded data removed]",
      "text/plain": [
       "<Figure size 432x288 with 1 Axes>"
      ]
     },
     "metadata": {
      "needs_background": "light"
     },
     "output_type": "display_data"
    }
   ],
   "source": [
    "run_metrics(pred, pred_proba, yvalid, visualize=True)"
   ]
  },
  {
   "cell_type": "markdown",
   "metadata": {},
   "source": [
    "## Use Tfidf for the features"
   ]
  },
  {
   "cell_type": "code",
   "execution_count": 74,
   "metadata": {},
   "outputs": [],
   "source": [
    "tfidf_vectorizer = TfidfVectorizer(stop_words='english', max_df=0.7)\n",
    "count_train_idf = tfidf_vectorizer.fit_transform(xtrain)\n",
    "count_valid_idf = tfidf_vectorizer.transform(xvalid)"
   ]
  },
  {
   "cell_type": "code",
   "execution_count": 75,
   "metadata": {
    "scrolled": false
   },
   "outputs": [],
   "source": [
    "nb_classifier.fit(count_train_idf, ytrain)\n",
    "pred = nb_classifier.predict(count_valid_idf)\n",
    "pred_proba = nb_classifier.predict_proba(count_valid_idf)[:,1]\n"
   ]
  },
  {
   "cell_type": "code",
   "execution_count": 76,
   "metadata": {},
   "outputs": [
    {
     "name": "stdout",
     "output_type": "stream",
     "text": [
      "Average precision-recall score: 0.16\n",
      "[[1807    0]\n",
      " [ 181   13]]\n",
      "Accuracy Score: 0.91\n"
     ]
    },
    {
     "data": {
      "image/png": "[encoded data removed]",
      "text/plain": [
       "<Figure size 432x288 with 1 Axes>"
      ]
     },
     "metadata": {
      "needs_background": "light"
     },
     "output_type": "display_data"
    },
    {
     "data": {
      "image/png": "[encoded data removed]",
      "text/plain": [
       "<Figure size 432x288 with 1 Axes>"
      ]
     },
     "metadata": {
      "needs_background": "light"
     },
     "output_type": "display_data"
    }
   ],
   "source": [
    "run_metrics(pred, pred_proba, yvalid, visualize=True)"
   ]
  },
  {
   "cell_type": "markdown",
   "metadata": {},
   "source": [
    "## Use Deep Learning"
   ]
  },
  {
   "cell_type": "code",
   "execution_count": 77,
   "metadata": {
    "_cell_guid": "b1076dfc-b9ad-4769-8c92-a6c4dae69d19",
    "_uuid": "8f2839f25d086af736a60e9eeb907d3b93b6e0e5"
   },
   "outputs": [],
   "source": [
    "import tensorflow as tf\n",
    "from keras.models import Sequential\n",
    "from keras.layers.recurrent import LSTM, GRU,SimpleRNN\n",
    "from keras.layers.core import Dense, Activation, Dropout\n",
    "from keras.layers.embeddings import Embedding\n",
    "from keras.layers.normalization import BatchNormalization\n",
    "from keras.utils import np_utils\n",
    "from sklearn import preprocessing, decomposition, model_selection, metrics, pipeline\n",
    "from keras.layers import GlobalMaxPooling1D, Conv1D, MaxPooling1D, Flatten, Bidirectional, SpatialDropout1D\n",
    "from keras.preprocessing import sequence, text\n",
    "from keras.callbacks import EarlyStopping, History, ModelCheckpoint, TensorBoard\n",
    "from tensorflow.keras.optimizers import Adam\n",
    "\n"
   ]
  },
  {
   "cell_type": "markdown",
   "metadata": {},
   "source": [
    "## Preprocess data"
   ]
  },
  {
   "cell_type": "markdown",
   "metadata": {},
   "source": [
    "### We will check the maximum number of words that can be present in a comment , this will help us in padding later"
   ]
  },
  {
   "cell_type": "code",
   "execution_count": 78,
   "metadata": {},
   "outputs": [
    {
     "name": "stdout",
     "output_type": "stream",
     "text": [
      "Max length of comment text is: 1500\n"
     ]
    }
   ],
   "source": [
    "max_len = int(round(train['comment_text'].apply(lambda x:len(str(x).split())).max(), -2)+100)\n",
    "print(\"Max length of comment text is: {}\".format(max_len))"
   ]
  },
  {
   "cell_type": "markdown",
   "metadata": {},
   "source": [
    "### First do Tokenization of input corpus"
   ]
  },
  {
   "cell_type": "code",
   "execution_count": 79,
   "metadata": {},
   "outputs": [],
   "source": [
    "# using keras tokenizer here\n",
    "token = text.Tokenizer(num_words=None)\n",
    "\n",
    "token.fit_on_texts(list(xtrain) + list(xvalid))\n",
    "xtrain_seq = token.texts_to_sequences(xtrain)\n",
    "xvalid_seq = token.texts_to_sequences(xvalid)\n",
    "\n",
    "#zero pad the sequences\n",
    "xtrain_pad = sequence.pad_sequences(xtrain_seq, maxlen=max_len)\n",
    "xvalid_pad = sequence.pad_sequences(xvalid_seq, maxlen=max_len)\n",
    "\n",
    "word_index = token.word_index"
   ]
  },
  {
   "cell_type": "code",
   "execution_count": 80,
   "metadata": {},
   "outputs": [
    {
     "data": {
      "text/plain": [
       "{'the': 1,\n",
       " 'to': 2,\n",
       " 'of': 3,\n",
       " 'and': 4,\n",
       " 'you': 5,\n",
       " 'i': 6,\n",
       " 'a': 7,\n",
       " 'is': 8,\n",
       " 'that': 9,\n",
       " 'in': 10,\n",
       " 'it': 11,\n",
       " 'for': 12,\n",
       " 'this': 13,\n",
       " 'not': 14,\n",
       " 'on': 15,\n",
       " 'be': 16,\n",
       " 'as': 17,\n",
       " 'have': 18,\n",
       " 'are': 19,\n",
       " 'with': 20,\n",
       " 'your': 21,\n",
       " 'if': 22,\n",
       " 'was': 23,\n",
       " 'article': 24,\n",
       " 'or': 25,\n",
       " 'but': 26,\n",
       " 'page': 27,\n",
       " 'my': 28,\n",
       " 'an': 29,\n",
       " 'wikipedia': 30,\n",
       " 'by': 31,\n",
       " 'from': 32,\n",
       " 'do': 33,\n",
       " 'at': 34,\n",
       " 'about': 35,\n",
       " 'me': 36,\n",
       " 'so': 37,\n",
       " 'can': 38,\n",
       " 'talk': 39,\n",
       " 'what': 40,\n",
       " 'there': 41,\n",
       " 'has': 42,\n",
       " 'all': 43,\n",
       " 'no': 44,\n",
       " 'will': 45,\n",
       " 'one': 46,\n",
       " 'would': 47,\n",
       " 'like': 48,\n",
       " 'please': 49,\n",
       " 'he': 50,\n",
       " 'just': 51,\n",
       " 'they': 52,\n",
       " 'any': 53,\n",
       " 'been': 54,\n",
       " 'which': 55,\n",
       " 'his': 56,\n",
       " 'more': 57,\n",
       " 'other': 58,\n",
       " 'we': 59,\n",
       " 'here': 60,\n",
       " 'should': 61,\n",
       " \"don't\": 62,\n",
       " 'some': 63,\n",
       " 'see': 64,\n",
       " 'who': 65,\n",
       " 'also': 66,\n",
       " 'because': 67,\n",
       " 'am': 68,\n",
       " 'know': 69,\n",
       " 'think': 70,\n",
       " \"i'm\": 71,\n",
       " 'up': 72,\n",
       " 'how': 73,\n",
       " 'edit': 74,\n",
       " 'why': 75,\n",
       " 'out': 76,\n",
       " \"it's\": 77,\n",
       " 'then': 78,\n",
       " 'people': 79,\n",
       " 'use': 80,\n",
       " 'only': 81,\n",
       " 'were': 82,\n",
       " 'time': 83,\n",
       " 'when': 84,\n",
       " 'articles': 85,\n",
       " 'fuck': 86,\n",
       " 'did': 87,\n",
       " 'may': 88,\n",
       " 'now': 89,\n",
       " 'their': 90,\n",
       " 'being': 91,\n",
       " 'user': 92,\n",
       " 'than': 93,\n",
       " 'thanks': 94,\n",
       " 'go': 95,\n",
       " 'get': 96,\n",
       " 'them': 97,\n",
       " 'even': 98,\n",
       " 'balls': 99,\n",
       " 'make': 100,\n",
       " 'good': 101,\n",
       " 'had': 102,\n",
       " 'information': 103,\n",
       " 'could': 104,\n",
       " 'well': 105,\n",
       " 'ass': 106,\n",
       " 'deletion': 107,\n",
       " 'sex': 108,\n",
       " 'very': 109,\n",
       " 'its': 110,\n",
       " 'wp': 111,\n",
       " 'want': 112,\n",
       " 'first': 113,\n",
       " 'does': 114,\n",
       " 'way': 115,\n",
       " 'sources': 116,\n",
       " 'such': 117,\n",
       " 'made': 118,\n",
       " 'going': 119,\n",
       " 'name': 120,\n",
       " 'new': 121,\n",
       " 'say': 122,\n",
       " 'image': 123,\n",
       " 'pages': 124,\n",
       " 'again': 125,\n",
       " 'source': 126,\n",
       " 'these': 127,\n",
       " 'where': 128,\n",
       " 'used': 129,\n",
       " 'hate': 130,\n",
       " 'most': 131,\n",
       " 'really': 132,\n",
       " 'section': 133,\n",
       " 'need': 134,\n",
       " 'edits': 135,\n",
       " 'yourself': 136,\n",
       " 'help': 137,\n",
       " 'many': 138,\n",
       " \"i've\": 139,\n",
       " 'much': 140,\n",
       " 'thank': 141,\n",
       " 'since': 142,\n",
       " 'same': 143,\n",
       " 'editing': 144,\n",
       " 'find': 145,\n",
       " 'after': 146,\n",
       " 'right': 147,\n",
       " 'before': 148,\n",
       " 'read': 149,\n",
       " 'said': 150,\n",
       " 'those': 151,\n",
       " 'someone': 152,\n",
       " 'discussion': 153,\n",
       " 'into': 154,\n",
       " 'him': 155,\n",
       " 'fact': 156,\n",
       " 'two': 157,\n",
       " 'own': 158,\n",
       " 'still': 159,\n",
       " 'too': 160,\n",
       " 'wiki': 161,\n",
       " 'deleted': 162,\n",
       " 'work': 163,\n",
       " 'look': 164,\n",
       " 'something': 165,\n",
       " 'point': 166,\n",
       " 'u': 167,\n",
       " 'take': 168,\n",
       " 'back': 169,\n",
       " 'over': 170,\n",
       " 'stop': 171,\n",
       " 'link': 172,\n",
       " 'content': 173,\n",
       " 'add': 174,\n",
       " 'case': 175,\n",
       " 'her': 176,\n",
       " 'history': 177,\n",
       " 'under': 178,\n",
       " '1': 179,\n",
       " 'blocked': 180,\n",
       " 'without': 181,\n",
       " 'list': 182,\n",
       " 'editors': 183,\n",
       " 'utc': 184,\n",
       " 'removed': 185,\n",
       " 'added': 186,\n",
       " 'might': 187,\n",
       " 'better': 188,\n",
       " 'never': 189,\n",
       " \"you're\": 190,\n",
       " 'place': 191,\n",
       " 'note': 192,\n",
       " 'free': 193,\n",
       " 'our': 194,\n",
       " 'comment': 195,\n",
       " 'block': 196,\n",
       " 'reason': 197,\n",
       " '2': 198,\n",
       " 'personal': 199,\n",
       " 'using': 200,\n",
       " \"that's\": 201,\n",
       " 'person': 202,\n",
       " 'ask': 203,\n",
       " 'another': 204,\n",
       " \"doesn't\": 205,\n",
       " 'she': 206,\n",
       " 'anything': 207,\n",
       " 'sure': 208,\n",
       " 'both': 209,\n",
       " 'off': 210,\n",
       " 'however': 211,\n",
       " 'put': 212,\n",
       " 'done': 213,\n",
       " 'feel': 214,\n",
       " 'thing': 215,\n",
       " 'vandalism': 216,\n",
       " 'question': 217,\n",
       " 'while': 218,\n",
       " 'http': 219,\n",
       " 'welcome': 220,\n",
       " 'part': 221,\n",
       " 'believe': 222,\n",
       " 'policy': 223,\n",
       " 'things': 224,\n",
       " 'us': 225,\n",
       " 'actually': 226,\n",
       " 'though': 227,\n",
       " 'hope': 228,\n",
       " 'come': 229,\n",
       " 'seems': 230,\n",
       " 'against': 231,\n",
       " \"can't\": 232,\n",
       " 'problem': 233,\n",
       " 'life': 234,\n",
       " 'change': 235,\n",
       " 'world': 236,\n",
       " 'hi': 237,\n",
       " 'sorry': 238,\n",
       " 'sexsex': 239,\n",
       " \"didn't\": 240,\n",
       " 'post': 241,\n",
       " 'links': 242,\n",
       " 'little': 243,\n",
       " 'comments': 244,\n",
       " 'reference': 245,\n",
       " '3': 246,\n",
       " 'wrong': 247,\n",
       " 'anyone': 248,\n",
       " 'understand': 249,\n",
       " 'give': 250,\n",
       " 'making': 251,\n",
       " 'nothing': 252,\n",
       " 'com': 253,\n",
       " 'editor': 254,\n",
       " 'already': 255,\n",
       " 'years': 256,\n",
       " 'different': 257,\n",
       " 'questions': 258,\n",
       " 'mean': 259,\n",
       " 'must': 260,\n",
       " 'fair': 261,\n",
       " 'keep': 262,\n",
       " \"i'll\": 263,\n",
       " 'others': 264,\n",
       " 'last': 265,\n",
       " 'says': 266,\n",
       " 'reliable': 267,\n",
       " 'remove': 268,\n",
       " 'agree': 269,\n",
       " 'best': 270,\n",
       " 'above': 271,\n",
       " 'e': 272,\n",
       " 'rather': 273,\n",
       " \"isn't\": 274,\n",
       " 'long': 275,\n",
       " 'write': 276,\n",
       " 'far': 277,\n",
       " 'copyright': 278,\n",
       " 'evidence': 279,\n",
       " 'issue': 280,\n",
       " 'non': 281,\n",
       " 'english': 282,\n",
       " 'leave': 283,\n",
       " 'tag': 284,\n",
       " 'etc': 285,\n",
       " 'every': 286,\n",
       " 'trying': 287,\n",
       " 'day': 288,\n",
       " 'try': 289,\n",
       " 'speedy': 290,\n",
       " 'few': 291,\n",
       " 'bot': 292,\n",
       " 'got': 293,\n",
       " 'either': 294,\n",
       " 'word': 295,\n",
       " 'references': 296,\n",
       " 'example': 297,\n",
       " 'yes': 298,\n",
       " 'subject': 299,\n",
       " 'based': 300,\n",
       " 'found': 301,\n",
       " 'original': 302,\n",
       " 'through': 303,\n",
       " 'delete': 304,\n",
       " 'called': 305,\n",
       " 'simply': 306,\n",
       " 'let': 307,\n",
       " 'great': 308,\n",
       " 'doing': 309,\n",
       " 'having': 310,\n",
       " 'around': 311,\n",
       " 'probably': 312,\n",
       " 'between': 313,\n",
       " 'users': 314,\n",
       " 'least': 315,\n",
       " 'enough': 316,\n",
       " 'war': 317,\n",
       " 'site': 318,\n",
       " 'down': 319,\n",
       " 'encyclopedia': 320,\n",
       " 'opinion': 321,\n",
       " 'else': 322,\n",
       " 'clearly': 323,\n",
       " 'reverted': 324,\n",
       " 'images': 325,\n",
       " 'yet': 326,\n",
       " 'show': 327,\n",
       " 'created': 328,\n",
       " 'hello': 329,\n",
       " 'account': 330,\n",
       " 'request': 331,\n",
       " 'text': 332,\n",
       " 'ever': 333,\n",
       " 'book': 334,\n",
       " 'fucking': 335,\n",
       " 'perhaps': 336,\n",
       " 'material': 337,\n",
       " 're': 338,\n",
       " 'check': 339,\n",
       " 'style': 340,\n",
       " 'view': 341,\n",
       " 'state': 342,\n",
       " 'useless': 343,\n",
       " 'clear': 344,\n",
       " 'version': 345,\n",
       " 'bit': 346,\n",
       " 'adding': 347,\n",
       " 'states': 348,\n",
       " 'continue': 349,\n",
       " 'saying': 350,\n",
       " 'message': 351,\n",
       " 'ip': 352,\n",
       " 'times': 353,\n",
       " 'top': 354,\n",
       " 'written': 355,\n",
       " 'consensus': 356,\n",
       " 'further': 357,\n",
       " 'needs': 358,\n",
       " 'lot': 359,\n",
       " 'important': 360,\n",
       " 'homeland': 361,\n",
       " 'contributions': 362,\n",
       " 'given': 363,\n",
       " 'website': 364,\n",
       " 'true': 365,\n",
       " 'real': 366,\n",
       " 'several': 367,\n",
       " 'thought': 368,\n",
       " 'statement': 369,\n",
       " 'title': 370,\n",
       " 's': 371,\n",
       " 'facts': 372,\n",
       " 'support': 373,\n",
       " 'once': 374,\n",
       " '—': 375,\n",
       " 'securityfuck': 376,\n",
       " '5': 377,\n",
       " 'number': 378,\n",
       " \"i'd\": 379,\n",
       " 'www': 380,\n",
       " 'tell': 381,\n",
       " 'matter': 382,\n",
       " 'bad': 383,\n",
       " 'language': 384,\n",
       " 'each': 385,\n",
       " 'review': 386,\n",
       " 'claim': 387,\n",
       " 'maybe': 388,\n",
       " 'three': 389,\n",
       " 'term': 390,\n",
       " 'old': 391,\n",
       " 'revert': 392,\n",
       " 'words': 393,\n",
       " 'quite': 394,\n",
       " 'instead': 395,\n",
       " 'pov': 396,\n",
       " 'idea': 397,\n",
       " 'whether': 398,\n",
       " 'until': 399,\n",
       " 'always': 400,\n",
       " 'criteria': 401,\n",
       " 'notable': 402,\n",
       " 'consider': 403,\n",
       " 'research': 404,\n",
       " 'template': 405,\n",
       " 'changes': 406,\n",
       " 'mention': 407,\n",
       " 'seem': 408,\n",
       " 'considered': 409,\n",
       " '4': 410,\n",
       " 'american': 411,\n",
       " 'address': 412,\n",
       " 'main': 413,\n",
       " 'means': 414,\n",
       " 'notice': 415,\n",
       " 'c': 416,\n",
       " 'cunt': 417,\n",
       " 'possible': 418,\n",
       " 'correct': 419,\n",
       " 'call': 420,\n",
       " 'following': 421,\n",
       " 'second': 422,\n",
       " 'left': 423,\n",
       " 'cannot': 424,\n",
       " 'media': 425,\n",
       " 'year': 426,\n",
       " \"there's\": 427,\n",
       " 'getting': 428,\n",
       " 'makes': 429,\n",
       " 'guidelines': 430,\n",
       " 'general': 431,\n",
       " 'date': 432,\n",
       " 'atheist': 433,\n",
       " 'current': 434,\n",
       " 'attack': 435,\n",
       " 'interest': 436,\n",
       " '•': 437,\n",
       " 'issues': 438,\n",
       " 'suggest': 439,\n",
       " 'less': 440,\n",
       " 'including': 441,\n",
       " 'explain': 442,\n",
       " 'end': 443,\n",
       " 'known': 444,\n",
       " 'changed': 445,\n",
       " 'man': 446,\n",
       " 'looking': 447,\n",
       " 'group': 448,\n",
       " 'later': 449,\n",
       " 'include': 450,\n",
       " 'specific': 451,\n",
       " 'admin': 452,\n",
       " 'regarding': 453,\n",
       " 'course': 454,\n",
       " 'kind': 455,\n",
       " 'mentioned': 456,\n",
       " 'move': 457,\n",
       " 'seen': 458,\n",
       " 'whole': 459,\n",
       " 'care': 460,\n",
       " 'dont': 461,\n",
       " 'create': 462,\n",
       " 'claims': 463,\n",
       " 'sense': 464,\n",
       " 'line': 465,\n",
       " 'jpg': 466,\n",
       " 'rules': 467,\n",
       " 'start': 468,\n",
       " \"wikipedia's\": 469,\n",
       " 'happy': 470,\n",
       " 'answer': 471,\n",
       " 'recent': 472,\n",
       " 'p': 473,\n",
       " 'ok': 474,\n",
       " 'although': 475,\n",
       " 'school': 476,\n",
       " 'oh': 477,\n",
       " 'project': 478,\n",
       " 'myself': 479,\n",
       " 'party': 480,\n",
       " 'political': 481,\n",
       " 'provide': 482,\n",
       " 'per': 483,\n",
       " 'redirect': 484,\n",
       " 'days': 485,\n",
       " '10': 486,\n",
       " 'stuff': 487,\n",
       " 'listed': 488,\n",
       " 'org': 489,\n",
       " 'mind': 490,\n",
       " 'anyway': 491,\n",
       " 'related': 492,\n",
       " 'books': 493,\n",
       " 'according': 494,\n",
       " 'able': 495,\n",
       " 'taken': 496,\n",
       " 't': 497,\n",
       " 'next': 498,\n",
       " 'country': 499,\n",
       " 'category': 500,\n",
       " 'nor': 501,\n",
       " 'big': 502,\n",
       " 'wish': 503,\n",
       " 'info': 504,\n",
       " 'self': 505,\n",
       " 'writing': 506,\n",
       " 'currently': 507,\n",
       " 'summary': 508,\n",
       " 'music': 509,\n",
       " 'news': 510,\n",
       " 'attacks': 511,\n",
       " 'warning': 512,\n",
       " 'single': 513,\n",
       " 'four': 514,\n",
       " 'relevant': 515,\n",
       " 'hey': 516,\n",
       " 'full': 517,\n",
       " '2005': 518,\n",
       " 'certainly': 519,\n",
       " 'lead': 520,\n",
       " 'public': 521,\n",
       " 'topic': 522,\n",
       " 'common': 523,\n",
       " 'knowledge': 524,\n",
       " 'discuss': 525,\n",
       " 'names': 526,\n",
       " 'order': 527,\n",
       " 'picture': 528,\n",
       " \"you've\": 529,\n",
       " 'anti': 530,\n",
       " 'working': 531,\n",
       " 'file': 532,\n",
       " 'sentence': 533,\n",
       " 'published': 534,\n",
       " 'removing': 535,\n",
       " 'interested': 536,\n",
       " '6': 537,\n",
       " 'love': 538,\n",
       " 'started': 539,\n",
       " 'major': 540,\n",
       " 'proposed': 541,\n",
       " 'appears': 542,\n",
       " 'wanted': 543,\n",
       " 'neutral': 544,\n",
       " 'god': 545,\n",
       " 'position': 546,\n",
       " 'during': 547,\n",
       " 'completely': 548,\n",
       " 'appropriate': 549,\n",
       " 'talking': 550,\n",
       " 'within': 551,\n",
       " 'city': 552,\n",
       " 'especially': 553,\n",
       " 'faith': 554,\n",
       " 'en': 555,\n",
       " 'response': 556,\n",
       " '20': 557,\n",
       " 'notability': 558,\n",
       " 'sign': 559,\n",
       " 'government': 560,\n",
       " 'username': 561,\n",
       " 'future': 562,\n",
       " 'looks': 563,\n",
       " 'reading': 564,\n",
       " 'report': 565,\n",
       " 'ago': 566,\n",
       " 'form': 567,\n",
       " 'official': 568,\n",
       " 'conflict': 569,\n",
       " 'away': 570,\n",
       " '2006': 571,\n",
       " 'side': 572,\n",
       " 'included': 573,\n",
       " 'murder': 574,\n",
       " 'united': 575,\n",
       " 'policies': 576,\n",
       " 'system': 577,\n",
       " '2007': 578,\n",
       " 'live': 579,\n",
       " 'truth': 580,\n",
       " 'false': 581,\n",
       " 'nice': 582,\n",
       " 'quote': 583,\n",
       " 'b': 584,\n",
       " 'everything': 585,\n",
       " 'therefore': 586,\n",
       " 'web': 587,\n",
       " 'similar': 588,\n",
       " \"wasn't\": 589,\n",
       " 'present': 590,\n",
       " 'pretty': 591,\n",
       " 'google': 592,\n",
       " 'placed': 593,\n",
       " 'canada': 594,\n",
       " 'learn': 595,\n",
       " 'process': 596,\n",
       " 'today': 597,\n",
       " 'dispute': 598,\n",
       " 'community': 599,\n",
       " '9': 600,\n",
       " 'kill': 601,\n",
       " 'rule': 602,\n",
       " '2008': 603,\n",
       " 'reasons': 604,\n",
       " 'become': 605,\n",
       " 'theory': 606,\n",
       " 'company': 607,\n",
       " '11': 608,\n",
       " 'everyone': 609,\n",
       " 'game': 610,\n",
       " 'posted': 611,\n",
       " 'unless': 612,\n",
       " 'itself': 613,\n",
       " 'cheers': 614,\n",
       " 'paragraph': 615,\n",
       " 'hard': 616,\n",
       " 'along': 617,\n",
       " 'useful': 618,\n",
       " 'obviously': 619,\n",
       " 'tried': 620,\n",
       " 'reverting': 621,\n",
       " 'past': 622,\n",
       " 'asked': 623,\n",
       " \"won't\": 624,\n",
       " 'came': 625,\n",
       " 'problems': 626,\n",
       " 'w': 627,\n",
       " 'stay': 628,\n",
       " 'below': 629,\n",
       " 'wrote': 630,\n",
       " 'banned': 631,\n",
       " 'npov': 632,\n",
       " 'guess': 633,\n",
       " 'deleting': 634,\n",
       " 'appreciate': 635,\n",
       " 'actual': 636,\n",
       " 'reply': 637,\n",
       " '24': 638,\n",
       " 'remember': 639,\n",
       " 'involved': 640,\n",
       " 'piece': 641,\n",
       " 'sandbox': 642,\n",
       " 'contribs': 643,\n",
       " 'almost': 644,\n",
       " '7': 645,\n",
       " 'argument': 646,\n",
       " 'views': 647,\n",
       " 'sort': 648,\n",
       " 'due': 649,\n",
       " '0': 650,\n",
       " 'high': 651,\n",
       " 'death': 652,\n",
       " 'taking': 653,\n",
       " '2010': 654,\n",
       " 'open': 655,\n",
       " 'stated': 656,\n",
       " 'noticed': 657,\n",
       " 'guy': 658,\n",
       " 'took': 659,\n",
       " 'whatever': 660,\n",
       " 'small': 661,\n",
       " 'third': 662,\n",
       " 'often': 663,\n",
       " 'improve': 664,\n",
       " 'stupid': 665,\n",
       " 'explanation': 666,\n",
       " 'entry': 667,\n",
       " 'search': 668,\n",
       " 'obvious': 669,\n",
       " 'entire': 670,\n",
       " 'law': 671,\n",
       " 'sourced': 672,\n",
       " 'certain': 673,\n",
       " 'interesting': 674,\n",
       " '\\xa0': 675,\n",
       " 'king': 676,\n",
       " 'internet': 677,\n",
       " 'definition': 678,\n",
       " 'g': 679,\n",
       " 'story': 680,\n",
       " 'de': 681,\n",
       " 'went': 682,\n",
       " 'works': 683,\n",
       " '12': 684,\n",
       " 'play': 685,\n",
       " '100': 686,\n",
       " '15': 687,\n",
       " 'short': 688,\n",
       " 'edited': 689,\n",
       " 'exactly': 690,\n",
       " 'follow': 691,\n",
       " 'cite': 692,\n",
       " 'themselves': 693,\n",
       " 'shit': 694,\n",
       " 'band': 695,\n",
       " 'provided': 696,\n",
       " \"haven't\": 697,\n",
       " 'cited': 698,\n",
       " 'type': 699,\n",
       " 'needed': 700,\n",
       " 'regards': 701,\n",
       " 'yeah': 702,\n",
       " 'loser': 703,\n",
       " 'indeed': 704,\n",
       " '8': 705,\n",
       " 'likely': 706,\n",
       " 'area': 707,\n",
       " 'admins': 708,\n",
       " 'color': 709,\n",
       " 'points': 710,\n",
       " 'email': 711,\n",
       " 'film': 712,\n",
       " 'external': 713,\n",
       " 'series': 714,\n",
       " 'soon': 715,\n",
       " 'shows': 716,\n",
       " 'violation': 717,\n",
       " 'alone': 718,\n",
       " 'science': 719,\n",
       " 'd': 720,\n",
       " 'proper': 721,\n",
       " 'm': 722,\n",
       " 'week': 723,\n",
       " 'disagree': 724,\n",
       " 'mr': 725,\n",
       " 'hours': 726,\n",
       " 'citation': 727,\n",
       " 'rights': 728,\n",
       " 'british': 729,\n",
       " 'vandalize': 730,\n",
       " 'various': 731,\n",
       " 'thus': 732,\n",
       " 'set': 733,\n",
       " 'saw': 734,\n",
       " '16': 735,\n",
       " 'told': 736,\n",
       " 'addition': 737,\n",
       " 'particular': 738,\n",
       " 'statements': 739,\n",
       " 'valid': 740,\n",
       " 'moved': 741,\n",
       " 'india': 742,\n",
       " 'national': 743,\n",
       " 'german': 744,\n",
       " 'allowed': 745,\n",
       " 'calling': 746,\n",
       " 'assume': 747,\n",
       " 'five': 748,\n",
       " \"let's\": 749,\n",
       " 'status': 750,\n",
       " 'himself': 751,\n",
       " 'otherwise': 752,\n",
       " 'generally': 753,\n",
       " 'details': 754,\n",
       " 'appear': 755,\n",
       " 'exist': 756,\n",
       " 'culture': 757,\n",
       " 'attempt': 758,\n",
       " 'v': 759,\n",
       " 'living': 760,\n",
       " 'actions': 761,\n",
       " 'administrator': 762,\n",
       " 'university': 763,\n",
       " 'black': 764,\n",
       " 'upon': 765,\n",
       " 'power': 766,\n",
       " 'accurate': 767,\n",
       " 'members': 768,\n",
       " 'fine': 769,\n",
       " 'ones': 770,\n",
       " 'avoid': 771,\n",
       " 'aware': 772,\n",
       " 'background': 773,\n",
       " 'uploaded': 774,\n",
       " 'outside': 775,\n",
       " 'gay': 776,\n",
       " 'terms': 777,\n",
       " 'family': 778,\n",
       " 'respect': 779,\n",
       " \"wouldn't\": 780,\n",
       " 'nonsense': 781,\n",
       " 'period': 782,\n",
       " 'modern': 783,\n",
       " 'children': 784,\n",
       " 'north': 785,\n",
       " 'test': 786,\n",
       " 'contributing': 787,\n",
       " 'goes': 788,\n",
       " 'hand': 789,\n",
       " 'cause': 790,\n",
       " \"article's\": 791,\n",
       " 'human': 792,\n",
       " 'tv': 793,\n",
       " 'legal': 794,\n",
       " 'computer': 795,\n",
       " 'im': 796,\n",
       " 'attention': 797,\n",
       " 'personally': 798,\n",
       " '14': 799,\n",
       " 'accept': 800,\n",
       " 'south': 801,\n",
       " 'automatically': 802,\n",
       " 'comes': 803,\n",
       " 'debate': 804,\n",
       " 'context': 805,\n",
       " 'citations': 806,\n",
       " 'together': 807,\n",
       " 'level': 808,\n",
       " '–': 809,\n",
       " 'worked': 810,\n",
       " 'job': 811,\n",
       " '2004': 812,\n",
       " 'white': 813,\n",
       " \"aren't\": 814,\n",
       " 'bastard': 815,\n",
       " 'helpful': 816,\n",
       " 'fucker': 817,\n",
       " 'homo': 818,\n",
       " 'guys': 819,\n",
       " 'french': 820,\n",
       " 'john': 821,\n",
       " 'description': 822,\n",
       " \"he's\": 823,\n",
       " 'changing': 824,\n",
       " 'fail': 825,\n",
       " 'available': 826,\n",
       " 'unblock': 827,\n",
       " 'tags': 828,\n",
       " '2009': 829,\n",
       " 'accepted': 830,\n",
       " 'financial': 831,\n",
       " 'cities': 832,\n",
       " 'class': 833,\n",
       " 'r': 834,\n",
       " 'f': 835,\n",
       " 'al': 836,\n",
       " 'multiple': 837,\n",
       " 'lack': 838,\n",
       " '000': 839,\n",
       " 'gets': 840,\n",
       " 'blocking': 841,\n",
       " 'incorrect': 842,\n",
       " 'sock': 843,\n",
       " 'serious': 844,\n",
       " 'meant': 845,\n",
       " '19': 846,\n",
       " 'refer': 847,\n",
       " '23': 848,\n",
       " 'study': 849,\n",
       " 'august': 850,\n",
       " 'prominent': 851,\n",
       " 'seriously': 852,\n",
       " \"what's\": 853,\n",
       " 'online': 854,\n",
       " 'result': 855,\n",
       " 'team': 856,\n",
       " 'contact': 857,\n",
       " 'earlier': 858,\n",
       " 'sites': 859,\n",
       " 'speak': 860,\n",
       " 'creating': 861,\n",
       " 'civil': 862,\n",
       " 'july': 863,\n",
       " 'previous': 864,\n",
       " 'author': 865,\n",
       " 'happened': 866,\n",
       " 'head': 867,\n",
       " 'run': 868,\n",
       " 'events': 869,\n",
       " 'enjoy': 870,\n",
       " 'figure': 871,\n",
       " 'bias': 872,\n",
       " 'copy': 873,\n",
       " 'album': 874,\n",
       " 'simple': 875,\n",
       " 'doubt': 876,\n",
       " 'mitt': 877,\n",
       " 'romney': 878,\n",
       " 'arguments': 879,\n",
       " 'uk': 880,\n",
       " '22': 881,\n",
       " '18': 882,\n",
       " 'video': 883,\n",
       " 'vote': 884,\n",
       " 'asking': 885,\n",
       " 'press': 886,\n",
       " 'wikiproject': 887,\n",
       " 'entirely': 888,\n",
       " 'apparently': 889,\n",
       " 'biased': 890,\n",
       " 'coming': 891,\n",
       " 'understanding': 892,\n",
       " 'missing': 893,\n",
       " 'december': 894,\n",
       " 'historical': 895,\n",
       " 'tagged': 896,\n",
       " 'greek': 897,\n",
       " 'proof': 898,\n",
       " 'pro': 899,\n",
       " 'heard': 900,\n",
       " 'america': 901,\n",
       " 'manual': 902,\n",
       " 'special': 903,\n",
       " 'sucks': 904,\n",
       " 'george': 905,\n",
       " 'shall': 906,\n",
       " '13': 907,\n",
       " 'decide': 908,\n",
       " 'supposed': 909,\n",
       " 'allow': 910,\n",
       " 'explaining': 911,\n",
       " 'mother': 912,\n",
       " 'complete': 913,\n",
       " 'western': 914,\n",
       " '30': 915,\n",
       " 'longer': 916,\n",
       " 'academic': 917,\n",
       " 'force': 918,\n",
       " 'specifically': 919,\n",
       " 'standard': 920,\n",
       " 'release': 921,\n",
       " 'hell': 922,\n",
       " 'none': 923,\n",
       " 'data': 924,\n",
       " \"they're\": 925,\n",
       " 'barnstar': 926,\n",
       " 'sometimes': 927,\n",
       " 'months': 928,\n",
       " 'wikipedian': 929,\n",
       " 'population': 930,\n",
       " 'shut': 931,\n",
       " 'recently': 932,\n",
       " 'x': 933,\n",
       " 'border': 934,\n",
       " 'messages': 935,\n",
       " 'afd': 936,\n",
       " 'majority': 937,\n",
       " 'light': 938,\n",
       " 'age': 939,\n",
       " 'factual': 940,\n",
       " 'uses': 941,\n",
       " 'close': 942,\n",
       " 'cocksucker': 943,\n",
       " 'friends': 944,\n",
       " 'except': 945,\n",
       " 'business': 946,\n",
       " 'warring': 947,\n",
       " 'thinking': 948,\n",
       " 'action': 949,\n",
       " 'sections': 950,\n",
       " 'ban': 951,\n",
       " \"you'll\": 952,\n",
       " 'jewish': 953,\n",
       " '21': 954,\n",
       " 'republic': 955,\n",
       " 'archive': 956,\n",
       " 'situation': 957,\n",
       " 'dead': 958,\n",
       " 'asian': 959,\n",
       " 'contest': 960,\n",
       " 'fggt': 961,\n",
       " 'mothjer': 962,\n",
       " 'christian': 963,\n",
       " 'ideas': 964,\n",
       " 'face': 965,\n",
       " 'contribute': 966,\n",
       " 'minor': 967,\n",
       " 'expect': 968,\n",
       " 'space': 969,\n",
       " 'march': 970,\n",
       " 'photo': 971,\n",
       " 'looked': 972,\n",
       " 'large': 973,\n",
       " 'criticism': 974,\n",
       " 'lol': 975,\n",
       " 'rest': 976,\n",
       " 'difference': 977,\n",
       " 'rationale': 978,\n",
       " 'respond': 979,\n",
       " 'nazi': 980,\n",
       " 'purpose': 981,\n",
       " 'nobody': 982,\n",
       " 'takes': 983,\n",
       " 'deal': 984,\n",
       " 'character': 985,\n",
       " 'wait': 986,\n",
       " 'giving': 987,\n",
       " 'home': 988,\n",
       " 'experience': 989,\n",
       " 'readers': 990,\n",
       " 'separate': 991,\n",
       " 'june': 992,\n",
       " 'bring': 993,\n",
       " 'die': 994,\n",
       " 'watch': 995,\n",
       " 'particularly': 996,\n",
       " 'house': 997,\n",
       " 'lists': 998,\n",
       " 'putting': 999,\n",
       " 'battle': 1000,\n",
       " ...}"
      ]
     },
     "execution_count": 80,
     "metadata": {},
     "output_type": "execute_result"
    }
   ],
   "source": [
    "word_index"
   ]
  },
  {
   "cell_type": "markdown",
   "metadata": {},
   "source": [
    "Example for fitting tokenizer line-by-line if corpus is too big to fit into memory\n",
    "\n",
    "with open('/Users/liling.tan/test.txt') as fin: for line in fin:\n",
    "t.fit_on_texts(line.split()) # Fitting the tokenizer line-by-line.\n",
    "\n",
    "M = []\n",
    "\n",
    "with open('/Users/liling.tan/test.txt') as fin: for line in fin:\n",
    "\n",
    "    # Converting the lines into matrix, line-by-line.\n",
    "    m = t.texts_to_matrix([line], mode='count')[0]\n",
    "    M.append(m)"
   ]
  },
  {
   "cell_type": "markdown",
   "metadata": {},
   "source": [
    "## Use pretrained word embeddings"
   ]
  },
  {
   "cell_type": "markdown",
   "metadata": {},
   "source": [
    "## Convert our one-hot word index into semantic rich GloVe vectors"
   ]
  },
  {
   "cell_type": "code",
   "execution_count": null,
   "metadata": {},
   "outputs": [],
   "source": [
    "# load the GloVe vectors in a dictionary:\n",
    "\n",
    "embeddings_index = {}\n",
    "f = open('jigsaw-multilingual-toxic-comment-classification/glove840b300dtxt/glove.840B.300d.txt','r',encoding='utf-8')\n",
    "for line in tqdm(f):\n",
    "    values = line.split(' ')\n",
    "    word = values[0]\n",
    "    coefs = np.asarray([float(val) for val in values[1:]])\n",
    "    embeddings_index[word] = coefs\n",
    "f.close()\n",
    "\n",
    "print('Found %s word vectors.' % len(embeddings_index))"
   ]
  },
  {
   "cell_type": "code",
   "execution_count": null,
   "metadata": {},
   "outputs": [],
   "source": [
    "# create an embedding matrix for the words we have in the dataset\n",
    "embedding_matrix = np.zeros((len(word_index) + 1, 300))\n",
    "for word, i in tqdm(word_index.items()):\n",
    "    embedding_vector = embeddings_index.get(word)\n",
    "    if embedding_vector is not None:\n",
    "        embedding_matrix[i] = embedding_vector"
   ]
  },
  {
   "cell_type": "code",
   "execution_count": null,
   "metadata": {},
   "outputs": [],
   "source": [
    "#Save embeddings so they can be easily loaded\n",
    "#np.save('/kaggle/working/embedding_for_lstm_all', embedding_matrix)"
   ]
  },
  {
   "cell_type": "code",
   "execution_count": 81,
   "metadata": {},
   "outputs": [],
   "source": [
    "#Load embeddings\n",
    "embedding_matrix = np.load('jigsaw-multilingual-toxic-comment-classification/embedding_for_lstm_10K_sample.npy')"
   ]
  },
  {
   "cell_type": "code",
   "execution_count": 82,
   "metadata": {},
   "outputs": [
    {
     "data": {
      "text/plain": [
       "(38848, 300)"
      ]
     },
     "execution_count": 82,
     "metadata": {},
     "output_type": "execute_result"
    }
   ],
   "source": [
    "embedding_matrix.shape"
   ]
  },
  {
   "cell_type": "markdown",
   "metadata": {},
   "source": [
    "## Simple RNN Model"
   ]
  },
  {
   "cell_type": "code",
   "execution_count": 32,
   "metadata": {},
   "outputs": [],
   "source": [
    "opt = Adam(learning_rate=0.0001)"
   ]
  },
  {
   "cell_type": "code",
   "execution_count": 33,
   "metadata": {},
   "outputs": [
    {
     "name": "stdout",
     "output_type": "stream",
     "text": [
      "Model: \"sequential_8\"\n",
      "_________________________________________________________________\n",
      "Layer (type)                 Output Shape              Param #   \n",
      "=================================================================\n",
      "embedding_8 (Embedding)      (None, 1500, 300)         11654400  \n",
      "_________________________________________________________________\n",
      "simple_rnn_8 (SimpleRNN)     (None, 100)               40100     \n",
      "_________________________________________________________________\n",
      "dense_8 (Dense)              (None, 1)                 101       \n",
      "=================================================================\n",
      "Total params: 11,694,601\n",
      "Trainable params: 11,694,601\n",
      "Non-trainable params: 0\n",
      "_________________________________________________________________\n"
     ]
    }
   ],
   "source": [
    "model1 = Sequential()\n",
    "model1.add(Embedding(len(word_index) + 1,\n",
    "                 300,\n",
    "                 input_length=max_len))\n",
    "model1.add(SimpleRNN(100))\n",
    "model1.add(Dense(1, activation='relu'))\n",
    "model1.compile(loss='binary_crossentropy', optimizer=opt, metrics=['accuracy'])\n",
    "    \n",
    "model1.summary()"
   ]
  },
  {
   "cell_type": "code",
   "execution_count": 34,
   "metadata": {},
   "outputs": [
    {
     "name": "stderr",
     "output_type": "stream",
     "text": [
      "/Users/jkc/workspace/venv/vdata/lib/python3.7/site-packages/ipykernel_launcher.py:1: UserWarning: The `nb_epoch` argument in `fit` has been renamed `epochs`.\n",
      "  \"\"\"Entry point for launching an IPython kernel.\n"
     ]
    },
    {
     "name": "stdout",
     "output_type": "stream",
     "text": [
      "Epoch 1/5\n",
      "8000/8000 [==============================] - 87s 11ms/step - loss: 0.5626 - accuracy: 0.8954\n",
      "Epoch 2/5\n",
      "8000/8000 [==============================] - 91s 11ms/step - loss: 0.3691 - accuracy: 0.9021\n",
      "Epoch 3/5\n",
      "8000/8000 [==============================] - 92s 12ms/step - loss: 0.2907 - accuracy: 0.9035\n",
      "Epoch 4/5\n",
      "8000/8000 [==============================] - 92s 12ms/step - loss: 0.2513 - accuracy: 0.9172\n",
      "Epoch 5/5\n",
      "8000/8000 [==============================] - 93s 12ms/step - loss: 0.2010 - accuracy: 0.9329\n"
     ]
    },
    {
     "data": {
      "text/plain": [
       "<keras.callbacks.callbacks.History at 0x15de2dd50>"
      ]
     },
     "execution_count": 34,
     "metadata": {},
     "output_type": "execute_result"
    }
   ],
   "source": [
    "model1.fit(xtrain_pad, ytrain, epochs=5, batch_size=100) #Multiplying by Strategy to run on TPU's"
   ]
  },
  {
   "cell_type": "code",
   "execution_count": 83,
   "metadata": {},
   "outputs": [],
   "source": [
    "scores = model1.predict(xvalid_pad)[:, 0]\n",
    "preds = scores>.5\n"
   ]
  },
  {
   "cell_type": "code",
   "execution_count": 84,
   "metadata": {},
   "outputs": [
    {
     "name": "stdout",
     "output_type": "stream",
     "text": [
      "Average precision-recall score: 0.16\n",
      "[[1807    0]\n",
      " [ 181   13]]\n",
      "Accuracy Score: 0.91\n"
     ]
    },
    {
     "data": {
      "image/png": "[encoded data removed]",
      "text/plain": [
       "<Figure size 432x288 with 1 Axes>"
      ]
     },
     "metadata": {
      "needs_background": "light"
     },
     "output_type": "display_data"
    },
    {
     "data": {
      "image/png": "[encoded data removed]",
      "text/plain": [
       "<Figure size 432x288 with 1 Axes>"
      ]
     },
     "metadata": {
      "needs_background": "light"
     },
     "output_type": "display_data"
    }
   ],
   "source": [
    "run_metrics(preds, scores, yvalid)"
   ]
  },
  {
   "cell_type": "markdown",
   "metadata": {},
   "source": [
    "## Simple LSTM Model"
   ]
  },
  {
   "cell_type": "code",
   "execution_count": 85,
   "metadata": {},
   "outputs": [
    {
     "name": "stdout",
     "output_type": "stream",
     "text": [
      "Model: \"sequential_9\"\n",
      "_________________________________________________________________\n",
      "Layer (type)                 Output Shape              Param #   \n",
      "=================================================================\n",
      "embedding_9 (Embedding)      (None, 1500, 300)         11654400  \n",
      "_________________________________________________________________\n",
      "lstm_1 (LSTM)                (None, 100)               160400    \n",
      "_________________________________________________________________\n",
      "dense_9 (Dense)              (None, 1)                 101       \n",
      "=================================================================\n",
      "Total params: 11,814,901\n",
      "Trainable params: 160,501\n",
      "Non-trainable params: 11,654,400\n",
      "_________________________________________________________________\n",
      "CPU times: user 748 ms, sys: 254 ms, total: 1 s\n",
      "Wall time: 293 ms\n"
     ]
    }
   ],
   "source": [
    "%%time\n",
    "# A simple LSTM with glove embeddings and one dense layer\n",
    "model = Sequential()\n",
    "model.add(Embedding(len(word_index) + 1,\n",
    "                 300,\n",
    "                 weights=[embedding_matrix],\n",
    "                 input_length=max_len,\n",
    "                 trainable=False))\n",
    "\n",
    "model.add(LSTM(100, dropout=0.3, recurrent_dropout=0.3))\n",
    "model.add(Dense(1, activation='sigmoid'))\n",
    "model.compile(loss='binary_crossentropy', optimizer='adam',metrics=['accuracy'])\n",
    "    \n",
    "model.summary()"
   ]
  },
  {
   "cell_type": "code",
   "execution_count": 87,
   "metadata": {},
   "outputs": [
    {
     "name": "stderr",
     "output_type": "stream",
     "text": [
      "/Users/jkc/workspace/venv/vdata/lib/python3.7/site-packages/ipykernel_launcher.py:1: UserWarning: The `nb_epoch` argument in `fit` has been renamed `epochs`.\n",
      "  \"\"\"Entry point for launching an IPython kernel.\n"
     ]
    },
    {
     "name": "stdout",
     "output_type": "stream",
     "text": [
      "Epoch 1/5\n",
      "8000/8000 [==============================] - 222s 28ms/step - loss: 0.2360 - accuracy: 0.9149\n",
      "Epoch 2/5\n",
      "8000/8000 [==============================] - 197s 25ms/step - loss: 0.1601 - accuracy: 0.9419\n",
      "Epoch 3/5\n",
      "8000/8000 [==============================] - 186s 23ms/step - loss: 0.1528 - accuracy: 0.9471\n",
      "Epoch 4/5\n",
      "8000/8000 [==============================] - 193s 24ms/step - loss: 0.1417 - accuracy: 0.9471\n",
      "Epoch 5/5\n",
      "8000/8000 [==============================] - 191s 24ms/step - loss: 0.1296 - accuracy: 0.9539\n"
     ]
    },
    {
     "data": {
      "text/plain": [
       "<keras.callbacks.callbacks.History at 0x14c8d5410>"
      ]
     },
     "execution_count": 87,
     "metadata": {},
     "output_type": "execute_result"
    }
   ],
   "source": [
    "model.fit(xtrain_pad, ytrain, epochs=5, batch_size=64)"
   ]
  },
  {
   "cell_type": "code",
   "execution_count": 88,
   "metadata": {},
   "outputs": [],
   "source": [
    "scores = model.predict(xvalid_pad)\n",
    "preds = scores>.5"
   ]
  },
  {
   "cell_type": "code",
   "execution_count": 89,
   "metadata": {},
   "outputs": [
    {
     "name": "stdout",
     "output_type": "stream",
     "text": [
      "Average precision-recall score: 0.16\n",
      "[[1807    0]\n",
      " [ 181   13]]\n",
      "Accuracy Score: 0.91\n"
     ]
    },
    {
     "data": {
      "image/png": "[encoded data removed]",
      "text/plain": [
       "<Figure size 432x288 with 1 Axes>"
      ]
     },
     "metadata": {
      "needs_background": "light"
     },
     "output_type": "display_data"
    },
    {
     "data": {
      "image/png": "[encoded data removed]",
      "text/plain": [
       "<Figure size 432x288 with 1 Axes>"
      ]
     },
     "metadata": {
      "needs_background": "light"
     },
     "output_type": "display_data"
    }
   ],
   "source": [
    "run_metrics(preds, scores, yvalid)"
   ]
  },
  {
   "cell_type": "markdown",
   "metadata": {},
   "source": [
    "# Summary"
   ]
  },
  {
   "cell_type": "markdown",
   "metadata": {},
   "source": [
    "So far, with very little preprocessing, we have achieved high accuracy. This is a little bit misleading however because the training set is highly imbalanced (roughly 10% positive/toxic class). \n",
    "\n",
    "Slightly older techniques, bag-of-words and tf-idf have done better than a simple deep learning models out-of-the-box. This can been seen by the higher AUCs and accuracy of these models in contrast to the simple RNN model. In addition, training these models was extremely fast, even on a local machine. In contrast, the deep learning models required more than 10 minutes to train even five epochs. In addition, trainingg the simple RNN required playing around with the learning rate to get network to learn. The first few attempts produced labels of all zeros. \n",
    "\n",
    "The simple LSTM model starts to improve dramatically over the simple RNN model even with only 5 epochs, showing that using the semantic rich word embeddings and including memory already improve simple deep learning results. Though the overall accuracy has decreased in the LSTM model vs the Naive Bayes models, the AUC and precision-recall and ROC curves are much better than the simple models. As we approach more state-of-the-art (SOTA) models and move beyond simple proof-of-concept model training, i.e., try different network parameters, experiment with data preprocessing, do hyperparameter optimization, train until the results start to degrade, add regularization, etc., the results will likely improve even more dramatically.\n"
   ]
  },
  {
   "cell_type": "markdown",
   "metadata": {},
   "source": [
    "## Try a GRU Model"
   ]
  },
  {
   "cell_type": "code",
   "execution_count": null,
   "metadata": {},
   "outputs": [],
   "source": [
    "%%time\n",
    "# GRU with glove embeddings and two dense layers\n",
    " model = Sequential()\n",
    " model.add(Embedding(len(word_index) + 1,\n",
    "                 300,\n",
    "                 weights=[embedding_matrix],\n",
    "                 input_length=max_len,\n",
    "                 trainable=False))\n",
    " model.add(SpatialDropout1D(0.3))\n",
    " model.add(GRU(300))\n",
    " model.add(Dense(1, activation='sigmoid'))\n",
    "\n",
    " model.compile(loss='binary_crossentropy', optimizer='adam',metrics=['accuracy'])   \n",
    "    \n",
    "model.summary()"
   ]
  },
  {
   "cell_type": "code",
   "execution_count": null,
   "metadata": {},
   "outputs": [],
   "source": [
    "model.fit(xtrain_pad, ytrain, nb_epoch=5, batch_size=64*strategy.num_replicas_in_sync)"
   ]
  },
  {
   "cell_type": "code",
   "execution_count": null,
   "metadata": {},
   "outputs": [],
   "source": [
    "scores = model.predict(xvalid_pad)\n"
   ]
  },
  {
   "cell_type": "markdown",
   "metadata": {},
   "source": [
    "## Bidirectional RNN Model"
   ]
  },
  {
   "cell_type": "code",
   "execution_count": null,
   "metadata": {},
   "outputs": [],
   "source": [
    "%%time\n",
    "# A simple bidirectional LSTM with glove embeddings and one dense layer\n",
    "model = Sequential()\n",
    "model.add(Embedding(len(word_index) + 1,\n",
    "                 300,\n",
    "                 weights=[embedding_matrix],\n",
    "                 input_length=max_len,\n",
    "                 trainable=False))\n",
    "model.add(Bidirectional(LSTM(300, dropout=0.3, recurrent_dropout=0.3)))\n",
    "\n",
    "model.add(Dense(1,activation='sigmoid'))\n",
    "model.compile(loss='binary_crossentropy', optimizer='adam',metrics=['accuracy'])\n",
    "    \n",
    "    \n",
    "model.summary()"
   ]
  },
  {
   "cell_type": "code",
   "execution_count": null,
   "metadata": {},
   "outputs": [],
   "source": [
    "model.fit(xtrain_pad, ytrain, nb_epoch=5, batch_size=64*strategy.num_replicas_in_sync)"
   ]
  },
  {
   "cell_type": "code",
   "execution_count": null,
   "metadata": {},
   "outputs": [],
   "source": [
    "scores = model.predict(xvalid_pad)\n"
   ]
  },
  {
   "cell_type": "markdown",
   "metadata": {},
   "source": [
    "## Seq2seq Architecture"
   ]
  },
  {
   "cell_type": "code",
   "execution_count": null,
   "metadata": {},
   "outputs": [],
   "source": [
    "#TBD"
   ]
  },
  {
   "cell_type": "markdown",
   "metadata": {},
   "source": [
    "## Transformers/Attention/BERT"
   ]
  },
  {
   "cell_type": "code",
   "execution_count": null,
   "metadata": {},
   "outputs": [],
   "source": [
    "# Loading Dependencies\n",
    "import os\n",
    "import tensorflow as tf\n",
    "from tensorflow.keras.layers import Dense, Input\n",
    "from tensorflow.keras.optimizers import Adam\n",
    "from tensorflow.keras.models import Model\n",
    "from tensorflow.keras.callbacks import ModelCheckpoint\n",
    "from kaggle_datasets import KaggleDatasets\n",
    "import transformers\n",
    "\n",
    "from tokenizers import BertWordPieceTokenizer"
   ]
  },
  {
   "cell_type": "markdown",
   "metadata": {},
   "source": [
    "Encoder FOr DATA for understanding waht encode batch does read documentation of hugging face tokenizer :\n",
    "https://huggingface.co/transformers/main_classes/tokenizer.html here"
   ]
  },
  {
   "cell_type": "code",
   "execution_count": null,
   "metadata": {},
   "outputs": [],
   "source": [
    "def fast_encode(texts, tokenizer, chunk_size=256, maxlen=512):\n",
    "    \"\"\"\n",
    "    Encoder for encoding the text into sequence of integers for BERT Input\n",
    "    \"\"\"\n",
    "    tokenizer.enable_truncation(max_length=maxlen)\n",
    "    tokenizer.enable_padding(max_length=maxlen)\n",
    "    all_ids = []\n",
    "    \n",
    "    for i in tqdm(range(0, len(texts), chunk_size)):\n",
    "        text_chunk = texts[i:i+chunk_size].tolist()\n",
    "        encs = tokenizer.encode_batch(text_chunk)\n",
    "        all_ids.extend([enc.ids for enc in encs])\n",
    "    \n",
    "    return np.array(all_ids)"
   ]
  },
  {
   "cell_type": "code",
   "execution_count": null,
   "metadata": {},
   "outputs": [],
   "source": [
    "#IMP DATA FOR CONFIG\n",
    "\n",
    "AUTO = tf.data.experimental.AUTOTUNE\n",
    "\n",
    "\n",
    "# Configuration\n",
    "EPOCHS = 3\n",
    "BATCH_SIZE = 16 * strategy.num_replicas_in_sync\n",
    "MAX_LEN = 192"
   ]
  },
  {
   "cell_type": "markdown",
   "metadata": {},
   "source": [
    "## Tokenization\n",
    "\n",
    "For understanding please refer to hugging face documentation again"
   ]
  },
  {
   "cell_type": "code",
   "execution_count": null,
   "metadata": {},
   "outputs": [],
   "source": [
    "# First load the real tokenizer\n",
    "tokenizer = transformers.DistilBertTokenizer.from_pretrained('distilbert-base-multilingual-cased')\n",
    "# Save the loaded tokenizer locally\n",
    "tokenizer.save_pretrained('.')\n",
    "# Reload it with the huggingface tokenizers library\n",
    "fast_tokenizer = BertWordPieceTokenizer('vocab.txt', lowercase=False)\n",
    "fast_tokenizer"
   ]
  },
  {
   "cell_type": "code",
   "execution_count": null,
   "metadata": {},
   "outputs": [],
   "source": [
    "x_train = fast_encode(train1.comment_text.astype(str), fast_tokenizer, maxlen=MAX_LEN)\n",
    "x_valid = fast_encode(valid.comment_text.astype(str), fast_tokenizer, maxlen=MAX_LEN)\n",
    "x_test = fast_encode(test.content.astype(str), fast_tokenizer, maxlen=MAX_LEN)\n",
    "\n",
    "y_train = train1.toxic.values\n",
    "y_valid = valid.toxic.values"
   ]
  },
  {
   "cell_type": "code",
   "execution_count": null,
   "metadata": {},
   "outputs": [],
   "source": [
    "train_dataset = (\n",
    "    tf.data.Dataset\n",
    "    .from_tensor_slices((x_train, y_train))\n",
    "    .repeat()\n",
    "    .shuffle(2048)\n",
    "    .batch(BATCH_SIZE)\n",
    "    .prefetch(AUTO)\n",
    ")\n",
    "\n",
    "valid_dataset = (\n",
    "    tf.data.Dataset\n",
    "    .from_tensor_slices((x_valid, y_valid))\n",
    "    .batch(BATCH_SIZE)\n",
    "    .cache()\n",
    "    .prefetch(AUTO)\n",
    ")\n",
    "\n",
    "test_dataset = (\n",
    "    tf.data.Dataset\n",
    "    .from_tensor_slices(x_test)\n",
    "    .batch(BATCH_SIZE)\n",
    ")"
   ]
  },
  {
   "cell_type": "code",
   "execution_count": null,
   "metadata": {},
   "outputs": [],
   "source": [
    "def build_model(transformer, max_len=512):\n",
    "    \"\"\"\n",
    "    function for training the BERT model\n",
    "    \"\"\"\n",
    "    input_word_ids = Input(shape=(max_len,), dtype=tf.int32, name=\"input_word_ids\")\n",
    "    sequence_output = transformer(input_word_ids)[0]\n",
    "    cls_token = sequence_output[:, 0, :]\n",
    "    out = Dense(1, activation='sigmoid')(cls_token)\n",
    "    \n",
    "    model = Model(inputs=input_word_ids, outputs=out)\n",
    "    model.compile(Adam(lr=1e-5), loss='binary_crossentropy', metrics=['accuracy'])\n",
    "    \n",
    "    return model"
   ]
  },
  {
   "cell_type": "markdown",
   "metadata": {},
   "source": [
    "## Starting Training\n",
    "\n",
    "If you want to use any another model just replace the model name in transformers._____ and use accordingly"
   ]
  },
  {
   "cell_type": "code",
   "execution_count": null,
   "metadata": {},
   "outputs": [],
   "source": [
    "%%time\n",
    "with strategy.scope():\n",
    "    transformer_layer = (\n",
    "        transformers.TFDistilBertModel\n",
    "        .from_pretrained('distilbert-base-multilingual-cased')\n",
    "    )\n",
    "    model = build_model(transformer_layer, max_len=MAX_LEN)\n",
    "model.summary()"
   ]
  },
  {
   "cell_type": "code",
   "execution_count": null,
   "metadata": {},
   "outputs": [],
   "source": [
    "n_steps = x_train.shape[0] // BATCH_SIZE\n",
    "train_history = model.fit(\n",
    "    train_dataset,\n",
    "    steps_per_epoch=n_steps,\n",
    "    validation_data=valid_dataset,\n",
    "    epochs=EPOCHS\n",
    ")"
   ]
  },
  {
   "cell_type": "code",
   "execution_count": null,
   "metadata": {},
   "outputs": [],
   "source": [
    "n_steps = x_valid.shape[0] // BATCH_SIZE\n",
    "train_history_2 = model.fit(\n",
    "    valid_dataset.repeat(),\n",
    "    steps_per_epoch=n_steps,\n",
    "    epochs=EPOCHS*2\n",
    ")"
   ]
  },
  {
   "cell_type": "code",
   "execution_count": null,
   "metadata": {},
   "outputs": [],
   "source": []
  }
 ],
 "metadata": {
  "kernelspec": {
   "display_name": "Python 3",
   "language": "python",
   "name": "python3"
  },
  "language_info": {
   "codemirror_mode": {
    "name": "ipython",
    "version": 3
   },
   "file_extension": ".py",
   "mimetype": "text/x-python",
   "name": "python",
   "nbconvert_exporter": "python",
   "pygments_lexer": "ipython3",
   "version": "3.7.4"
  }
 },
 "nbformat": 4,
 "nbformat_minor": 4
}
